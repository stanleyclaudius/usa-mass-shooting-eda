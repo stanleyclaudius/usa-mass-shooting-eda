{
 "cells": [
  {
   "cell_type": "markdown",
   "id": "84a98944",
   "metadata": {},
   "source": [
    "## Project Description"
   ]
  },
  {
   "cell_type": "markdown",
   "id": "e90015fb",
   "metadata": {},
   "source": [
    "This project will mainly focused on EDA (Exploratory Data Analysis) on Mass Shooting in USA dataset that obtain from Kaggle. The dataset contains mass shooting data from 1992 to 2022. There are 4 charts being shown in this notebook to assist decision making process from the dataset."
   ]
  },
  {
   "cell_type": "markdown",
   "id": "7b5365f4",
   "metadata": {},
   "source": [
    "Dataset Link: https://www.kaggle.com/datasets/rprkh15/history-of-mass-shootings-in-the-usa"
   ]
  },
  {
   "cell_type": "markdown",
   "id": "cdbfcb5e",
   "metadata": {},
   "source": [
    "## Import Necessary Library"
   ]
  },
  {
   "cell_type": "code",
   "execution_count": 2,
   "id": "14e0ec81",
   "metadata": {},
   "outputs": [],
   "source": [
    "import pandas as pd\n",
    "import matplotlib.pyplot as plt"
   ]
  },
  {
   "cell_type": "markdown",
   "id": "385b0ef6",
   "metadata": {},
   "source": [
    "## Read Dataset"
   ]
  },
  {
   "cell_type": "code",
   "execution_count": 3,
   "id": "4eff46c1",
   "metadata": {},
   "outputs": [],
   "source": [
    "df = pd.read_csv('dataset/mass_shooting_in_usa.csv')"
   ]
  },
  {
   "cell_type": "code",
   "execution_count": 4,
   "id": "c88503e8",
   "metadata": {},
   "outputs": [
    {
     "data": {
      "text/html": [
       "<div>\n",
       "<style scoped>\n",
       "    .dataframe tbody tr th:only-of-type {\n",
       "        vertical-align: middle;\n",
       "    }\n",
       "\n",
       "    .dataframe tbody tr th {\n",
       "        vertical-align: top;\n",
       "    }\n",
       "\n",
       "    .dataframe thead th {\n",
       "        text-align: right;\n",
       "    }\n",
       "</style>\n",
       "<table border=\"1\" class=\"dataframe\">\n",
       "  <thead>\n",
       "    <tr style=\"text-align: right;\">\n",
       "      <th></th>\n",
       "      <th>Date</th>\n",
       "      <th>City</th>\n",
       "      <th>State</th>\n",
       "      <th>Dead</th>\n",
       "      <th>Injured</th>\n",
       "      <th>Total</th>\n",
       "      <th>Description</th>\n",
       "    </tr>\n",
       "  </thead>\n",
       "  <tbody>\n",
       "    <tr>\n",
       "      <th>0</th>\n",
       "      <td>31-07-2022</td>\n",
       "      <td>Decatur</td>\n",
       "      <td>Illinois</td>\n",
       "      <td>1</td>\n",
       "      <td>3</td>\n",
       "      <td>4</td>\n",
       "      <td>Four teenagers, one of whom died, were shot at...</td>\n",
       "    </tr>\n",
       "    <tr>\n",
       "      <th>1</th>\n",
       "      <td>31-07-2022</td>\n",
       "      <td>Hartford</td>\n",
       "      <td>Connecticut</td>\n",
       "      <td>0</td>\n",
       "      <td>4</td>\n",
       "      <td>4</td>\n",
       "      <td>Four people, including a teenager, were shot i...</td>\n",
       "    </tr>\n",
       "    <tr>\n",
       "      <th>2</th>\n",
       "      <td>31-07-2022</td>\n",
       "      <td>Indianapolis</td>\n",
       "      <td>Indiana</td>\n",
       "      <td>0</td>\n",
       "      <td>4</td>\n",
       "      <td>4</td>\n",
       "      <td>Four people were shot after a fight in the Bro...</td>\n",
       "    </tr>\n",
       "    <tr>\n",
       "      <th>3</th>\n",
       "      <td>31-07-2022</td>\n",
       "      <td>Detroit</td>\n",
       "      <td>Michigan</td>\n",
       "      <td>1</td>\n",
       "      <td>7</td>\n",
       "      <td>8</td>\n",
       "      <td>One person was killed, and seven others were i...</td>\n",
       "    </tr>\n",
       "    <tr>\n",
       "      <th>4</th>\n",
       "      <td>31-07-2022</td>\n",
       "      <td>Orlando</td>\n",
       "      <td>Florida</td>\n",
       "      <td>0</td>\n",
       "      <td>7</td>\n",
       "      <td>7</td>\n",
       "      <td>Seven people were shot when someone opened fir...</td>\n",
       "    </tr>\n",
       "  </tbody>\n",
       "</table>\n",
       "</div>"
      ],
      "text/plain": [
       "         Date          City        State  Dead  Injured  Total  \\\n",
       "0  31-07-2022       Decatur     Illinois     1        3      4   \n",
       "1  31-07-2022      Hartford  Connecticut     0        4      4   \n",
       "2  31-07-2022  Indianapolis      Indiana     0        4      4   \n",
       "3  31-07-2022       Detroit     Michigan     1        7      8   \n",
       "4  31-07-2022       Orlando      Florida     0        7      7   \n",
       "\n",
       "                                         Description  \n",
       "0  Four teenagers, one of whom died, were shot at...  \n",
       "1  Four people, including a teenager, were shot i...  \n",
       "2  Four people were shot after a fight in the Bro...  \n",
       "3  One person was killed, and seven others were i...  \n",
       "4  Seven people were shot when someone opened fir...  "
      ]
     },
     "execution_count": 4,
     "metadata": {},
     "output_type": "execute_result"
    }
   ],
   "source": [
    "df.head()"
   ]
  },
  {
   "cell_type": "code",
   "execution_count": 5,
   "id": "a3549bc2",
   "metadata": {},
   "outputs": [
    {
     "data": {
      "text/plain": [
       "(2712, 7)"
      ]
     },
     "execution_count": 5,
     "metadata": {},
     "output_type": "execute_result"
    }
   ],
   "source": [
    "df.shape"
   ]
  },
  {
   "cell_type": "code",
   "execution_count": 6,
   "id": "1983b05b",
   "metadata": {},
   "outputs": [
    {
     "name": "stdout",
     "output_type": "stream",
     "text": [
      "<class 'pandas.core.frame.DataFrame'>\n",
      "RangeIndex: 2712 entries, 0 to 2711\n",
      "Data columns (total 7 columns):\n",
      " #   Column       Non-Null Count  Dtype \n",
      "---  ------       --------------  ----- \n",
      " 0   Date         2712 non-null   object\n",
      " 1   City         2712 non-null   object\n",
      " 2   State        2712 non-null   object\n",
      " 3   Dead         2712 non-null   int64 \n",
      " 4   Injured      2712 non-null   int64 \n",
      " 5   Total        2712 non-null   int64 \n",
      " 6   Description  2712 non-null   object\n",
      "dtypes: int64(3), object(4)\n",
      "memory usage: 148.4+ KB\n"
     ]
    }
   ],
   "source": [
    "df.info()"
   ]
  },
  {
   "cell_type": "code",
   "execution_count": 7,
   "id": "42502d4b",
   "metadata": {},
   "outputs": [
    {
     "data": {
      "text/plain": [
       "Date           object\n",
       "City           object\n",
       "State          object\n",
       "Dead            int64\n",
       "Injured         int64\n",
       "Total           int64\n",
       "Description    object\n",
       "dtype: object"
      ]
     },
     "execution_count": 7,
     "metadata": {},
     "output_type": "execute_result"
    }
   ],
   "source": [
    "df.dtypes"
   ]
  },
  {
   "cell_type": "code",
   "execution_count": 8,
   "id": "034d1098",
   "metadata": {},
   "outputs": [
    {
     "data": {
      "text/plain": [
       "Date           0\n",
       "City           0\n",
       "State          0\n",
       "Dead           0\n",
       "Injured        0\n",
       "Total          0\n",
       "Description    0\n",
       "dtype: int64"
      ]
     },
     "execution_count": 8,
     "metadata": {},
     "output_type": "execute_result"
    }
   ],
   "source": [
    "df.isnull().sum()"
   ]
  },
  {
   "cell_type": "code",
   "execution_count": 9,
   "id": "2dbc6aac",
   "metadata": {},
   "outputs": [
    {
     "data": {
      "text/html": [
       "<div>\n",
       "<style scoped>\n",
       "    .dataframe tbody tr th:only-of-type {\n",
       "        vertical-align: middle;\n",
       "    }\n",
       "\n",
       "    .dataframe tbody tr th {\n",
       "        vertical-align: top;\n",
       "    }\n",
       "\n",
       "    .dataframe thead th {\n",
       "        text-align: right;\n",
       "    }\n",
       "</style>\n",
       "<table border=\"1\" class=\"dataframe\">\n",
       "  <thead>\n",
       "    <tr style=\"text-align: right;\">\n",
       "      <th></th>\n",
       "      <th>Dead</th>\n",
       "      <th>Injured</th>\n",
       "      <th>Total</th>\n",
       "    </tr>\n",
       "  </thead>\n",
       "  <tbody>\n",
       "    <tr>\n",
       "      <th>count</th>\n",
       "      <td>2712.000000</td>\n",
       "      <td>2712.000000</td>\n",
       "      <td>2712.000000</td>\n",
       "    </tr>\n",
       "    <tr>\n",
       "      <th>mean</th>\n",
       "      <td>1.436578</td>\n",
       "      <td>4.401180</td>\n",
       "      <td>5.837021</td>\n",
       "    </tr>\n",
       "    <tr>\n",
       "      <th>std</th>\n",
       "      <td>2.880447</td>\n",
       "      <td>8.532826</td>\n",
       "      <td>10.130793</td>\n",
       "    </tr>\n",
       "    <tr>\n",
       "      <th>min</th>\n",
       "      <td>0.000000</td>\n",
       "      <td>0.000000</td>\n",
       "      <td>2.000000</td>\n",
       "    </tr>\n",
       "    <tr>\n",
       "      <th>25%</th>\n",
       "      <td>0.000000</td>\n",
       "      <td>3.000000</td>\n",
       "      <td>4.000000</td>\n",
       "    </tr>\n",
       "    <tr>\n",
       "      <th>50%</th>\n",
       "      <td>1.000000</td>\n",
       "      <td>4.000000</td>\n",
       "      <td>4.000000</td>\n",
       "    </tr>\n",
       "    <tr>\n",
       "      <th>75%</th>\n",
       "      <td>2.000000</td>\n",
       "      <td>5.000000</td>\n",
       "      <td>6.000000</td>\n",
       "    </tr>\n",
       "    <tr>\n",
       "      <th>max</th>\n",
       "      <td>61.000000</td>\n",
       "      <td>411.000000</td>\n",
       "      <td>472.000000</td>\n",
       "    </tr>\n",
       "  </tbody>\n",
       "</table>\n",
       "</div>"
      ],
      "text/plain": [
       "              Dead      Injured        Total\n",
       "count  2712.000000  2712.000000  2712.000000\n",
       "mean      1.436578     4.401180     5.837021\n",
       "std       2.880447     8.532826    10.130793\n",
       "min       0.000000     0.000000     2.000000\n",
       "25%       0.000000     3.000000     4.000000\n",
       "50%       1.000000     4.000000     4.000000\n",
       "75%       2.000000     5.000000     6.000000\n",
       "max      61.000000   411.000000   472.000000"
      ]
     },
     "execution_count": 9,
     "metadata": {},
     "output_type": "execute_result"
    }
   ],
   "source": [
    "df.describe()"
   ]
  },
  {
   "cell_type": "markdown",
   "id": "25abcf44",
   "metadata": {},
   "source": [
    "## Convert Data Type"
   ]
  },
  {
   "cell_type": "code",
   "execution_count": 16,
   "id": "269c1919",
   "metadata": {
    "scrolled": false
   },
   "outputs": [],
   "source": [
    "df['Date'] = pd.to_datetime(df['Date'])"
   ]
  },
  {
   "cell_type": "code",
   "execution_count": 17,
   "id": "6383c213",
   "metadata": {},
   "outputs": [
    {
     "data": {
      "text/html": [
       "<div>\n",
       "<style scoped>\n",
       "    .dataframe tbody tr th:only-of-type {\n",
       "        vertical-align: middle;\n",
       "    }\n",
       "\n",
       "    .dataframe tbody tr th {\n",
       "        vertical-align: top;\n",
       "    }\n",
       "\n",
       "    .dataframe thead th {\n",
       "        text-align: right;\n",
       "    }\n",
       "</style>\n",
       "<table border=\"1\" class=\"dataframe\">\n",
       "  <thead>\n",
       "    <tr style=\"text-align: right;\">\n",
       "      <th></th>\n",
       "      <th>Date</th>\n",
       "      <th>City</th>\n",
       "      <th>State</th>\n",
       "      <th>Dead</th>\n",
       "      <th>Injured</th>\n",
       "      <th>Total</th>\n",
       "      <th>Description</th>\n",
       "    </tr>\n",
       "  </thead>\n",
       "  <tbody>\n",
       "    <tr>\n",
       "      <th>0</th>\n",
       "      <td>2022-07-31</td>\n",
       "      <td>Decatur</td>\n",
       "      <td>Illinois</td>\n",
       "      <td>1</td>\n",
       "      <td>3</td>\n",
       "      <td>4</td>\n",
       "      <td>Four teenagers, one of whom died, were shot at...</td>\n",
       "    </tr>\n",
       "    <tr>\n",
       "      <th>1</th>\n",
       "      <td>2022-07-31</td>\n",
       "      <td>Hartford</td>\n",
       "      <td>Connecticut</td>\n",
       "      <td>0</td>\n",
       "      <td>4</td>\n",
       "      <td>4</td>\n",
       "      <td>Four people, including a teenager, were shot i...</td>\n",
       "    </tr>\n",
       "    <tr>\n",
       "      <th>2</th>\n",
       "      <td>2022-07-31</td>\n",
       "      <td>Indianapolis</td>\n",
       "      <td>Indiana</td>\n",
       "      <td>0</td>\n",
       "      <td>4</td>\n",
       "      <td>4</td>\n",
       "      <td>Four people were shot after a fight in the Bro...</td>\n",
       "    </tr>\n",
       "    <tr>\n",
       "      <th>3</th>\n",
       "      <td>2022-07-31</td>\n",
       "      <td>Detroit</td>\n",
       "      <td>Michigan</td>\n",
       "      <td>1</td>\n",
       "      <td>7</td>\n",
       "      <td>8</td>\n",
       "      <td>One person was killed, and seven others were i...</td>\n",
       "    </tr>\n",
       "    <tr>\n",
       "      <th>4</th>\n",
       "      <td>2022-07-31</td>\n",
       "      <td>Orlando</td>\n",
       "      <td>Florida</td>\n",
       "      <td>0</td>\n",
       "      <td>7</td>\n",
       "      <td>7</td>\n",
       "      <td>Seven people were shot when someone opened fir...</td>\n",
       "    </tr>\n",
       "  </tbody>\n",
       "</table>\n",
       "</div>"
      ],
      "text/plain": [
       "        Date          City        State  Dead  Injured  Total  \\\n",
       "0 2022-07-31       Decatur     Illinois     1        3      4   \n",
       "1 2022-07-31      Hartford  Connecticut     0        4      4   \n",
       "2 2022-07-31  Indianapolis      Indiana     0        4      4   \n",
       "3 2022-07-31       Detroit     Michigan     1        7      8   \n",
       "4 2022-07-31       Orlando      Florida     0        7      7   \n",
       "\n",
       "                                         Description  \n",
       "0  Four teenagers, one of whom died, were shot at...  \n",
       "1  Four people, including a teenager, were shot i...  \n",
       "2  Four people were shot after a fight in the Bro...  \n",
       "3  One person was killed, and seven others were i...  \n",
       "4  Seven people were shot when someone opened fir...  "
      ]
     },
     "execution_count": 17,
     "metadata": {},
     "output_type": "execute_result"
    }
   ],
   "source": [
    "df.head()"
   ]
  },
  {
   "cell_type": "markdown",
   "id": "878c51aa",
   "metadata": {},
   "source": [
    "## 1. Dead Victim Count Caused By Shooting Per Year"
   ]
  },
  {
   "cell_type": "code",
   "execution_count": 50,
   "id": "dede653b",
   "metadata": {},
   "outputs": [
    {
     "data": {
      "image/png": "[encoded data removed]",
      "text/plain": [
       "<Figure size 1008x504 with 1 Axes>"
      ]
     },
     "metadata": {
      "needs_background": "light"
     },
     "output_type": "display_data"
    }
   ],
   "source": [
    "df.groupby(df['Date'].dt.year)[['Dead', 'Injured']].sum().plot()\n",
    "\n",
    "plt.grid(color='darkgray', linestyle=':', linewidth=0.5)\n",
    "plt.title('Dead Victim Count Caused By Shooting Per Year', color='blue', fontsize=16, pad=24)\n",
    "plt.xlabel('Year', fontsize=12, labelpad=16)\n",
    "plt.ylabel('Total Dead Victim', fontsize=12, labelpad=16)\n",
    "plt.annotate('2021 has the highest total dead victim', xy=(2020, 702), xytext=(1980, 702), color='red', arrowprops=dict(arrowstyle='->', connectionstyle='arc3', color='red'))\n",
    "plt.annotate('2021 has the highest total injured victim', xy=(2020, 2826), xytext=(1980, 2826), color='red', arrowprops=dict(arrowstyle='->', connectionstyle='arc3', color='red'))\n",
    "plt.gcf().set_size_inches(14, 7)\n",
    "plt.show()"
   ]
  },
  {
   "cell_type": "markdown",
   "id": "b06f1a8e",
   "metadata": {},
   "source": [
    "## 2. Dead And Injured Victim Comparison Caused By Shooting In USA"
   ]
  },
  {
   "cell_type": "code",
   "execution_count": 32,
   "id": "c2b5f5fb",
   "metadata": {},
   "outputs": [
    {
     "data": {
      "image/png": "[encoded data removed]",
      "text/plain": [
       "<Figure size 1008x504 with 1 Axes>"
      ]
     },
     "metadata": {},
     "output_type": "display_data"
    }
   ],
   "source": [
    "dead_injured_comparison = df[['Dead', 'Injured']].sum()\n",
    "\n",
    "patchers, _, texts = plt.pie(dead_injured_comparison, autopct='%1.1f%%')\n",
    "for text in texts:\n",
    "    text.set_color('white')\n",
    "plt.title('Dead And Injured Victim Comparison Caused By Shooting On USA', color='blue', fontsize=16, pad=24)\n",
    "plt.legend(['Dead', 'Injured'], loc='right', bbox_to_anchor=(1.2, .5), shadow=True)\n",
    "plt.gcf().set_size_inches(14, 7)\n",
    "plt.show()"
   ]
  },
  {
   "cell_type": "markdown",
   "id": "a5911b59",
   "metadata": {},
   "source": [
    "## 3. Top 5 Shooting Incident Distribution Based On State"
   ]
  },
  {
   "cell_type": "code",
   "execution_count": 33,
   "id": "e986de19",
   "metadata": {},
   "outputs": [
    {
     "data": {
      "image/png": "[encoded data removed]",
      "text/plain": [
       "<Figure size 1008x504 with 1 Axes>"
      ]
     },
     "metadata": {
      "needs_background": "light"
     },
     "output_type": "display_data"
    }
   ],
   "source": [
    "df.groupby('State')[['Dead', 'Injured']].sum().head().sort_values(by='Dead', ascending=False).plot(kind='bar', stacked=True)\n",
    "\n",
    "plt.title('Top 5 Shooting Incident Distribution Based On State', fontsize=16, color='blue', pad=24)\n",
    "plt.xlabel('State', fontsize=12, labelpad=16)\n",
    "plt.xticks(rotation=0)\n",
    "plt.ylabel('Total Incident', fontsize=12, labelpad=16)\n",
    "plt.legend(loc='right', bbox_to_anchor=(1.12, 0.5), shadow=True)\n",
    "plt.gcf().set_size_inches(14, 7)\n",
    "plt.show()"
   ]
  },
  {
   "cell_type": "markdown",
   "id": "1c1ea274",
   "metadata": {},
   "source": [
    "## 4. Top 10 Shooting Incident Distribution Based On State"
   ]
  },
  {
   "cell_type": "code",
   "execution_count": 38,
   "id": "da8d4797",
   "metadata": {},
   "outputs": [
    {
     "data": {
      "image/png": "[encoded data removed]",
      "text/plain": [
       "<Figure size 1008x504 with 1 Axes>"
      ]
     },
     "metadata": {
      "needs_background": "light"
     },
     "output_type": "display_data"
    }
   ],
   "source": [
    "df.groupby('City')[['Dead', 'Injured']].sum().head(10).sort_values(by='Dead', ascending=False).plot(kind='bar', stacked=True)\n",
    "\n",
    "plt.title('Top 10 Shooting Incident Distribution Based On City', fontsize=16, color='blue', pad=24)\n",
    "plt.xlabel('City', fontsize=12, labelpad=16)\n",
    "plt.xticks(rotation=0)\n",
    "plt.ylabel('Total Incident', fontsize=12, labelpad=16)\n",
    "plt.legend(loc='right', bbox_to_anchor=(1.12, 0.5), shadow=True)\n",
    "plt.gcf().set_size_inches(14, 7)\n",
    "plt.show()"
   ]
  },
  {
   "cell_type": "markdown",
   "id": "f1903de2",
   "metadata": {},
   "source": [
    "## Summary From Dataset"
   ]
  },
  {
   "cell_type": "markdown",
   "id": "02bcb420",
   "metadata": {},
   "source": [
    "1. 2021 is the year with the most mass shooting incident in USA\n",
    "2. By 2022, there are 75% victim injured caused by mass shooting in USA, and around 24% victim dead caused by the shooting incident in total\n",
    "3. From the dataset, it can be concluded that Alaska state will be safer to live compare to California\n",
    "4. From the dataset, it can be concluded that Alachua city is pretty safe to live at USA, compare to other 9 city that displayed on the above chart\n",
    "5. By 2022, the number of shooting incident is going down compared to the previous year, which is 2019, 2020, and 2021"
   ]
  },
  {
   "cell_type": "markdown",
   "id": "8f15a381",
   "metadata": {},
   "source": [
    "## Summary From Other Article Regarding Dataset"
   ]
  },
  {
   "cell_type": "markdown",
   "id": "ccc388a4",
   "metadata": {},
   "source": [
    "The reason behind the rise of shooting incident on the year of 2020 is there are rise of gun transactions around 60% in USA due to the COVID-19 pandemic. The 60% of gun transactions include 1.3 millions handguns and 700,000 rifles and shotguns.\n",
    "\n",
    "The reason behind the rise of gun transactions on the year of 2020 is there are around 30% active shooter have mental health problem. Many of them kill others because of narcissistic or disordered personalities which make them feel that mass shooting is the way to resolve their distress in life.\n",
    "\n",
    "Reference: https://theconversation.com/mass-shootings-in-the-us-have-risen-sharply-in-2020-why-150981"
   ]
  },
  {
   "cell_type": "markdown",
   "id": "7f3d7475",
   "metadata": {},
   "source": [
    "## Hypothesis From Above Summary"
   ]
  },
  {
   "cell_type": "markdown",
   "id": "fb3e0877",
   "metadata": {},
   "source": [
    "If the reason behind the rise of shooting incident on the year of 2020 is due to the COVID-19 pandemic, then, starting from 2022, the mass shooting incident should be slowly decreased compared to the year of 2020, because, by 2022, the world has slowly recovered from the COVID-19 pandemic. The hypothesis can be proofed by the first chart, which shows that there's a significant decreased on the number of victim that caused by mass shooting on 2022 compared to the previous year."
   ]
  }
 ],
 "metadata": {
  "kernelspec": {
   "display_name": "Python 3 (ipykernel)",
   "language": "python",
   "name": "python3"
  },
  "language_info": {
   "codemirror_mode": {
    "name": "ipython",
    "version": 3
   },
   "file_extension": ".py",
   "mimetype": "text/x-python",
   "name": "python",
   "nbconvert_exporter": "python",
   "pygments_lexer": "ipython3",
   "version": "3.9.12"
  }
 },
 "nbformat": 4,
 "nbformat_minor": 5
}
